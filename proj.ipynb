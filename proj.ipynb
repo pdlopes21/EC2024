{
  "cells": [
    {
      "cell_type": "markdown",
      "id": "3a52d395",
      "metadata": {},
      "source": [
        "# Projeto de Engenharia do Conhecimento 2023/2024\n",
        "\n",
        "*Projeto by: Renato Ferreira (58238), Pedro Lopes(58196), Simão Quintas (58190)*"
      ]
    },
    {
      "cell_type": "markdown",
      "id": "9bfdaccd",
      "metadata": {},
      "source": [
        "## Imports"
      ]
    },
    {
      "cell_type": "code",
      "execution_count": 94,
      "metadata": {},
      "outputs": [],
      "source": [
        "import matplotlib.pyplot as plt\n",
        "import numpy as np\n",
        "import pandas as pd\n",
        "from sklearn.model_selection import train_test_split, cross_val_score, GridSearchCV\n",
        "from sklearn.metrics import f1_score, accuracy_score, precision_score, recall_score, matthews_corrcoef, make_scorer\n",
        "from sklearn.feature_selection import SelectFromModel\n",
        "from sklearn.ensemble import RandomForestRegressor, RandomForestClassifier\n",
        "from sklearn.preprocessing import StandardScaler"
      ]
    },
    {
      "cell_type": "markdown",
      "id": "3b69ae97",
      "metadata": {},
      "source": [
        "Let's drop the rows and columns with a large number of NA values"
      ]
    },
    {
      "cell_type": "code",
      "execution_count": 2,
      "id": "d8ae247e",
      "metadata": {},
      "outputs": [
        {
          "data": {
            "text/html": [
              "<div>\n",
              "<style scoped>\n",
              "    .dataframe tbody tr th:only-of-type {\n",
              "        vertical-align: middle;\n",
              "    }\n",
              "\n",
              "    .dataframe tbody tr th {\n",
              "        vertical-align: top;\n",
              "    }\n",
              "\n",
              "    .dataframe thead th {\n",
              "        text-align: right;\n",
              "    }\n",
              "</style>\n",
              "<table border=\"1\" class=\"dataframe\">\n",
              "  <thead>\n",
              "    <tr style=\"text-align: right;\">\n",
              "      <th></th>\n",
              "      <th>age:</th>\n",
              "      <th>sex:</th>\n",
              "      <th>on thyroxine:</th>\n",
              "      <th>query on thyroxine:</th>\n",
              "      <th>on antithyroid medication:</th>\n",
              "      <th>sick:</th>\n",
              "      <th>pregnant:</th>\n",
              "      <th>thyroid surgery:</th>\n",
              "      <th>I131 treatment:</th>\n",
              "      <th>query hypothyroid:</th>\n",
              "      <th>...</th>\n",
              "      <th>hypopituitary:</th>\n",
              "      <th>psych:</th>\n",
              "      <th>TSH:</th>\n",
              "      <th>T3:</th>\n",
              "      <th>TT4:</th>\n",
              "      <th>T4U:</th>\n",
              "      <th>FTI:</th>\n",
              "      <th>TBG:</th>\n",
              "      <th>referral source:</th>\n",
              "      <th>diagnoses</th>\n",
              "    </tr>\n",
              "  </thead>\n",
              "  <tbody>\n",
              "    <tr>\n",
              "      <th>0</th>\n",
              "      <td>29</td>\n",
              "      <td>0.0</td>\n",
              "      <td>0</td>\n",
              "      <td>0</td>\n",
              "      <td>0</td>\n",
              "      <td>0</td>\n",
              "      <td>0</td>\n",
              "      <td>0</td>\n",
              "      <td>0</td>\n",
              "      <td>1</td>\n",
              "      <td>...</td>\n",
              "      <td>0</td>\n",
              "      <td>0</td>\n",
              "      <td>0.3</td>\n",
              "      <td>NaN</td>\n",
              "      <td>NaN</td>\n",
              "      <td>NaN</td>\n",
              "      <td>NaN</td>\n",
              "      <td>NaN</td>\n",
              "      <td>other</td>\n",
              "      <td>7</td>\n",
              "    </tr>\n",
              "    <tr>\n",
              "      <th>1</th>\n",
              "      <td>29</td>\n",
              "      <td>0.0</td>\n",
              "      <td>0</td>\n",
              "      <td>0</td>\n",
              "      <td>0</td>\n",
              "      <td>0</td>\n",
              "      <td>0</td>\n",
              "      <td>0</td>\n",
              "      <td>0</td>\n",
              "      <td>0</td>\n",
              "      <td>...</td>\n",
              "      <td>0</td>\n",
              "      <td>0</td>\n",
              "      <td>1.6</td>\n",
              "      <td>1.9</td>\n",
              "      <td>128.0</td>\n",
              "      <td>NaN</td>\n",
              "      <td>NaN</td>\n",
              "      <td>NaN</td>\n",
              "      <td>other</td>\n",
              "      <td>7</td>\n",
              "    </tr>\n",
              "    <tr>\n",
              "      <th>2</th>\n",
              "      <td>36</td>\n",
              "      <td>0.0</td>\n",
              "      <td>0</td>\n",
              "      <td>0</td>\n",
              "      <td>0</td>\n",
              "      <td>0</td>\n",
              "      <td>0</td>\n",
              "      <td>0</td>\n",
              "      <td>0</td>\n",
              "      <td>0</td>\n",
              "      <td>...</td>\n",
              "      <td>0</td>\n",
              "      <td>0</td>\n",
              "      <td>NaN</td>\n",
              "      <td>NaN</td>\n",
              "      <td>NaN</td>\n",
              "      <td>NaN</td>\n",
              "      <td>NaN</td>\n",
              "      <td>26.0</td>\n",
              "      <td>other</td>\n",
              "      <td>7</td>\n",
              "    </tr>\n",
              "    <tr>\n",
              "      <th>3</th>\n",
              "      <td>60</td>\n",
              "      <td>0.0</td>\n",
              "      <td>0</td>\n",
              "      <td>0</td>\n",
              "      <td>0</td>\n",
              "      <td>0</td>\n",
              "      <td>0</td>\n",
              "      <td>0</td>\n",
              "      <td>0</td>\n",
              "      <td>0</td>\n",
              "      <td>...</td>\n",
              "      <td>0</td>\n",
              "      <td>0</td>\n",
              "      <td>NaN</td>\n",
              "      <td>NaN</td>\n",
              "      <td>NaN</td>\n",
              "      <td>NaN</td>\n",
              "      <td>NaN</td>\n",
              "      <td>26.0</td>\n",
              "      <td>other</td>\n",
              "      <td>7</td>\n",
              "    </tr>\n",
              "    <tr>\n",
              "      <th>4</th>\n",
              "      <td>77</td>\n",
              "      <td>0.0</td>\n",
              "      <td>0</td>\n",
              "      <td>0</td>\n",
              "      <td>0</td>\n",
              "      <td>0</td>\n",
              "      <td>0</td>\n",
              "      <td>0</td>\n",
              "      <td>0</td>\n",
              "      <td>0</td>\n",
              "      <td>...</td>\n",
              "      <td>0</td>\n",
              "      <td>0</td>\n",
              "      <td>NaN</td>\n",
              "      <td>NaN</td>\n",
              "      <td>NaN</td>\n",
              "      <td>NaN</td>\n",
              "      <td>NaN</td>\n",
              "      <td>21.0</td>\n",
              "      <td>other</td>\n",
              "      <td>7</td>\n",
              "    </tr>\n",
              "    <tr>\n",
              "      <th>...</th>\n",
              "      <td>...</td>\n",
              "      <td>...</td>\n",
              "      <td>...</td>\n",
              "      <td>...</td>\n",
              "      <td>...</td>\n",
              "      <td>...</td>\n",
              "      <td>...</td>\n",
              "      <td>...</td>\n",
              "      <td>...</td>\n",
              "      <td>...</td>\n",
              "      <td>...</td>\n",
              "      <td>...</td>\n",
              "      <td>...</td>\n",
              "      <td>...</td>\n",
              "      <td>...</td>\n",
              "      <td>...</td>\n",
              "      <td>...</td>\n",
              "      <td>...</td>\n",
              "      <td>...</td>\n",
              "      <td>...</td>\n",
              "      <td>...</td>\n",
              "    </tr>\n",
              "    <tr>\n",
              "      <th>7333</th>\n",
              "      <td>56</td>\n",
              "      <td>1.0</td>\n",
              "      <td>0</td>\n",
              "      <td>0</td>\n",
              "      <td>0</td>\n",
              "      <td>0</td>\n",
              "      <td>0</td>\n",
              "      <td>0</td>\n",
              "      <td>0</td>\n",
              "      <td>0</td>\n",
              "      <td>...</td>\n",
              "      <td>0</td>\n",
              "      <td>0</td>\n",
              "      <td>NaN</td>\n",
              "      <td>NaN</td>\n",
              "      <td>64.0</td>\n",
              "      <td>0.83</td>\n",
              "      <td>77.0</td>\n",
              "      <td>NaN</td>\n",
              "      <td>SVI</td>\n",
              "      <td>7</td>\n",
              "    </tr>\n",
              "    <tr>\n",
              "      <th>7334</th>\n",
              "      <td>22</td>\n",
              "      <td>1.0</td>\n",
              "      <td>0</td>\n",
              "      <td>0</td>\n",
              "      <td>0</td>\n",
              "      <td>0</td>\n",
              "      <td>0</td>\n",
              "      <td>0</td>\n",
              "      <td>0</td>\n",
              "      <td>0</td>\n",
              "      <td>...</td>\n",
              "      <td>0</td>\n",
              "      <td>0</td>\n",
              "      <td>NaN</td>\n",
              "      <td>NaN</td>\n",
              "      <td>91.0</td>\n",
              "      <td>0.92</td>\n",
              "      <td>99.0</td>\n",
              "      <td>NaN</td>\n",
              "      <td>SVI</td>\n",
              "      <td>7</td>\n",
              "    </tr>\n",
              "    <tr>\n",
              "      <th>7335</th>\n",
              "      <td>69</td>\n",
              "      <td>1.0</td>\n",
              "      <td>0</td>\n",
              "      <td>0</td>\n",
              "      <td>0</td>\n",
              "      <td>0</td>\n",
              "      <td>0</td>\n",
              "      <td>0</td>\n",
              "      <td>0</td>\n",
              "      <td>0</td>\n",
              "      <td>...</td>\n",
              "      <td>0</td>\n",
              "      <td>0</td>\n",
              "      <td>NaN</td>\n",
              "      <td>NaN</td>\n",
              "      <td>113.0</td>\n",
              "      <td>1.27</td>\n",
              "      <td>89.0</td>\n",
              "      <td>NaN</td>\n",
              "      <td>SVI</td>\n",
              "      <td>3</td>\n",
              "    </tr>\n",
              "    <tr>\n",
              "      <th>7336</th>\n",
              "      <td>47</td>\n",
              "      <td>0.0</td>\n",
              "      <td>0</td>\n",
              "      <td>0</td>\n",
              "      <td>0</td>\n",
              "      <td>0</td>\n",
              "      <td>0</td>\n",
              "      <td>0</td>\n",
              "      <td>0</td>\n",
              "      <td>0</td>\n",
              "      <td>...</td>\n",
              "      <td>0</td>\n",
              "      <td>0</td>\n",
              "      <td>NaN</td>\n",
              "      <td>NaN</td>\n",
              "      <td>75.0</td>\n",
              "      <td>0.85</td>\n",
              "      <td>88.0</td>\n",
              "      <td>NaN</td>\n",
              "      <td>other</td>\n",
              "      <td>7</td>\n",
              "    </tr>\n",
              "    <tr>\n",
              "      <th>7337</th>\n",
              "      <td>31</td>\n",
              "      <td>1.0</td>\n",
              "      <td>0</td>\n",
              "      <td>0</td>\n",
              "      <td>0</td>\n",
              "      <td>0</td>\n",
              "      <td>0</td>\n",
              "      <td>0</td>\n",
              "      <td>0</td>\n",
              "      <td>1</td>\n",
              "      <td>...</td>\n",
              "      <td>0</td>\n",
              "      <td>0</td>\n",
              "      <td>NaN</td>\n",
              "      <td>NaN</td>\n",
              "      <td>66.0</td>\n",
              "      <td>1.02</td>\n",
              "      <td>65.0</td>\n",
              "      <td>NaN</td>\n",
              "      <td>other</td>\n",
              "      <td>7</td>\n",
              "    </tr>\n",
              "  </tbody>\n",
              "</table>\n",
              "<p>7338 rows × 24 columns</p>\n",
              "</div>"
            ],
            "text/plain": [
              "      age:  sex:  on thyroxine:  query on thyroxine:  \\\n",
              "0       29   0.0              0                    0   \n",
              "1       29   0.0              0                    0   \n",
              "2       36   0.0              0                    0   \n",
              "3       60   0.0              0                    0   \n",
              "4       77   0.0              0                    0   \n",
              "...    ...   ...            ...                  ...   \n",
              "7333    56   1.0              0                    0   \n",
              "7334    22   1.0              0                    0   \n",
              "7335    69   1.0              0                    0   \n",
              "7336    47   0.0              0                    0   \n",
              "7337    31   1.0              0                    0   \n",
              "\n",
              "      on antithyroid medication:  sick:  pregnant:  thyroid surgery:  \\\n",
              "0                              0      0          0                 0   \n",
              "1                              0      0          0                 0   \n",
              "2                              0      0          0                 0   \n",
              "3                              0      0          0                 0   \n",
              "4                              0      0          0                 0   \n",
              "...                          ...    ...        ...               ...   \n",
              "7333                           0      0          0                 0   \n",
              "7334                           0      0          0                 0   \n",
              "7335                           0      0          0                 0   \n",
              "7336                           0      0          0                 0   \n",
              "7337                           0      0          0                 0   \n",
              "\n",
              "      I131 treatment:  query hypothyroid:  ...  hypopituitary:  psych:  TSH:  \\\n",
              "0                   0                   1  ...               0       0   0.3   \n",
              "1                   0                   0  ...               0       0   1.6   \n",
              "2                   0                   0  ...               0       0   NaN   \n",
              "3                   0                   0  ...               0       0   NaN   \n",
              "4                   0                   0  ...               0       0   NaN   \n",
              "...               ...                 ...  ...             ...     ...   ...   \n",
              "7333                0                   0  ...               0       0   NaN   \n",
              "7334                0                   0  ...               0       0   NaN   \n",
              "7335                0                   0  ...               0       0   NaN   \n",
              "7336                0                   0  ...               0       0   NaN   \n",
              "7337                0                   1  ...               0       0   NaN   \n",
              "\n",
              "      T3:   TT4:  T4U:  FTI:  TBG:  referral source:  diagnoses  \n",
              "0     NaN    NaN   NaN   NaN   NaN             other          7  \n",
              "1     1.9  128.0   NaN   NaN   NaN             other          7  \n",
              "2     NaN    NaN   NaN   NaN  26.0             other          7  \n",
              "3     NaN    NaN   NaN   NaN  26.0             other          7  \n",
              "4     NaN    NaN   NaN   NaN  21.0             other          7  \n",
              "...   ...    ...   ...   ...   ...               ...        ...  \n",
              "7333  NaN   64.0  0.83  77.0   NaN               SVI          7  \n",
              "7334  NaN   91.0  0.92  99.0   NaN               SVI          7  \n",
              "7335  NaN  113.0  1.27  89.0   NaN               SVI          3  \n",
              "7336  NaN   75.0  0.85  88.0   NaN             other          7  \n",
              "7337  NaN   66.0  1.02  65.0   NaN             other          7  \n",
              "\n",
              "[7338 rows x 24 columns]"
            ]
          },
          "execution_count": 2,
          "metadata": {},
          "output_type": "execute_result"
        }
      ],
      "source": [
        "data = pd.read_csv('proj-data.csv', na_values='?')\n",
        "\n",
        "# Remover as colunas que indicam se algo foi medido ou não, a coluna com a indentificação e colunas com muitos valores ausentes\n",
        "data.drop(data.filter(like='measured').columns, axis=1, inplace=True)\n",
        "data.drop('[record identification]', axis=1, inplace=True)\n",
        "\n",
        "hyperthyroid_conditions = ['A', 'B', 'C', 'D']\n",
        "hypothyroid_conditions = ['E', 'F', 'G', 'H']\n",
        "binding_protein = ['I', 'J']\n",
        "general_health = ['K']\n",
        "replacement_therapy = ['L', 'M', 'N']\n",
        "discordant = ['R']\n",
        "none = ['-']\n",
        "\n",
        "for i in range(len(data)):\n",
        "    if data.at[i, \"diagnoses\"] in hyperthyroid_conditions :\n",
        "        data.at[i, \"diagnoses\"] = 1\n",
        "    elif data.at[i, \"diagnoses\"] in hypothyroid_conditions :\n",
        "        data.at[i, \"diagnoses\"] = 2\n",
        "    elif data.at[i, \"diagnoses\"] in binding_protein :\n",
        "        data.at[i, \"diagnoses\"] = 3\n",
        "    elif data.at[i, \"diagnoses\"] in general_health :\n",
        "        data.at[i, \"diagnoses\"] = 4\n",
        "    elif data.at[i, \"diagnoses\"] in replacement_therapy :\n",
        "        data.at[i, \"diagnoses\"] = 5\n",
        "    elif data.at[i, \"diagnoses\"] in discordant :\n",
        "        data.at[i, \"diagnoses\"] = 6\n",
        "    elif data.at[i, \"diagnoses\"] in none :\n",
        "        data.at[i, \"diagnoses\"] = 7 \n",
        "    else:\n",
        "        data.at[i, \"diagnoses\"] = 8 \n",
        "\n",
        "data.replace('f', 0, inplace=True)\n",
        "data.replace('t', 1, inplace=True)\n",
        "data.replace('F', 0, inplace=True)\n",
        "data.replace('M', 1, inplace=True)\n",
        "\n",
        "data"
      ]
    },
    {
      "cell_type": "markdown",
      "id": "eb4bdddd",
      "metadata": {},
      "source": [
        "Obter os valores da feature matrix tratados e da target variable, removendo as colunas com poucos valores."
      ]
    },
    {
      "cell_type": "code",
      "execution_count": 7,
      "id": "9ea2fb48",
      "metadata": {},
      "outputs": [
        {
          "name": "stdout",
          "output_type": "stream",
          "text": [
            "T3: 2068 missing values!\n",
            "TT4: 362 missing values!\n",
            "T4U: 664 missing values!\n",
            "FTI: 658 missing values!\n",
            "TBG: 7054 missing values!\n",
            "TSH: 671 missing values!\n",
            "sex: 240 missing values!\n"
          ]
        }
      ],
      "source": [
        "missingValues = {}\n",
        "\n",
        "for i in data.values:\n",
        "  c=0\n",
        "  for j in i:\n",
        "    if pd.isna(j):\n",
        "      if data.columns[c] not in missingValues:\n",
        "        missingValues[data.columns[c]] = 1\n",
        "      else:\n",
        "        missingValues[data.columns[c]] += 1\n",
        "    c+=1\n",
        "\n",
        "for c in missingValues.keys():\n",
        "  if missingValues[c] > 0:\n",
        "    print(c,str(missingValues[c]),\"missing values!\")\n",
        "\n",
        "X = data.iloc[:,:-1]\n",
        "\n",
        "# Remover linhas com poucos valores medidos\n",
        "X.dropna(axis=1, thresh=5500, inplace=True) # 5500 porque é ~75% do número total\n",
        "X.drop('TBG:',axis=1,inplace=True) # Tem 7054 missing values\n",
        "X.drop('T3:',axis=1,inplace=True) # Tem 2068 missing values\n",
        "X.drop('referral source:',axis=1,inplace=True)\n",
        "\n",
        "y = data.iloc[: , -1:]\n",
        "y = y.astype('int')"
      ]
    },
    {
      "cell_type": "markdown",
      "id": "b2725fe8",
      "metadata": {},
      "source": [
        "## Feature Selection"
      ]
    },
    {
      "cell_type": "code",
      "execution_count": 8,
      "id": "1ebd5bc5",
      "metadata": {},
      "outputs": [
        {
          "name": "stdout",
          "output_type": "stream",
          "text": [
            "Default threshold:  0.04\n",
            "The features selected are columns:  [ 0  2 16 17 18 19]\n"
          ]
        }
      ],
      "source": [
        "X_train, X_test, y_train, y_test = train_test_split(X, y, test_size=0.25,random_state=0)\n",
        "\n",
        "#SCALER\n",
        "scaler = StandardScaler()\n",
        "scaler.fit(X_train)\n",
        "Xt_train=scaler.fit_transform(X_train)\n",
        "Xt_test=scaler.fit_transform(X_test)\n",
        "\n",
        "#FEATURE SELECTION\n",
        "N,M = Xt_train.shape\n",
        "\n",
        "rfr=RandomForestRegressor(random_state=0)\n",
        "sel = SelectFromModel(estimator=rfr,threshold=0.04)\n",
        "y_train = y_train.squeeze().ravel()\n",
        "y_test = y_test.squeeze().ravel()\n",
        "sel.fit(Xt_train, y_train)\n",
        "\n",
        "print(\"Default threshold: \", sel.threshold_)\n",
        "\n",
        "features=sel.get_support()\n",
        "Features_selected =np.arange(M)[features]\n",
        "\n",
        "print(\"The features selected are columns: \", Features_selected)\n",
        "\n",
        "nX_train=sel.transform(Xt_train)\n",
        "nX_test=sel.transform(Xt_test)\n",
        "\n",
        "score = make_scorer(matthews_corrcoef)"
      ]
    },
    {
      "cell_type": "code",
      "execution_count": 9,
      "id": "3d12a6a7",
      "metadata": {},
      "outputs": [
        {
          "name": "stdout",
          "output_type": "stream",
          "text": [
            "1: Feature 16 (0.293830)\n",
            "2: Feature 19 (0.188841)\n",
            "3: Feature 17 (0.161341)\n",
            "4: Feature 18 (0.132939)\n",
            "5: Feature 0 (0.100973)\n",
            "6: Feature 2 (0.048124)\n",
            "7: Feature 1 (0.014136)\n",
            "8: Feature 10 (0.009445)\n",
            "9: Feature 6 (0.009191)\n",
            "10: Feature 9 (0.006833)\n",
            "11: Feature 7 (0.006124)\n",
            "12: Feature 5 (0.005364)\n",
            "13: Feature 13 (0.005027)\n",
            "14: Feature 4 (0.004354)\n",
            "15: Feature 15 (0.003590)\n",
            "16: Feature 8 (0.003191)\n",
            "17: Feature 3 (0.003120)\n",
            "18: Feature 12 (0.001945)\n",
            "19: Feature 11 (0.001112)\n",
            "20: Feature 14 (0.000521)\n"
          ]
        },
        {
          "data": {
            "image/png": "[encoded data removed]",
            "text/plain": [
              "<Figure size 800x500 with 1 Axes>"
            ]
          },
          "metadata": {},
          "output_type": "display_data"
        }
      ],
      "source": [
        "rfc = RandomForestClassifier(random_state=123)      \n",
        "rfc = rfc.fit(Xt_train,y_train)\n",
        "std = np.std([t.feature_importances_ for t in rfc.estimators_], axis=0)\n",
        "\n",
        "rfc2 = RandomForestClassifier(random_state=123)      \n",
        "rfc2 = rfc2.fit(Xt_train,y_train)\n",
        "importances = rfc2.feature_importances_\n",
        "features = np.argsort(importances)[::-1]\n",
        " \n",
        "for f in range(features.size):\n",
        "    print(\"%d: Feature %d (%f)\" % (f + 1, features[f],  importances[features[f]]))\n",
        " \n",
        "#Plot the feature importances list:\n",
        "plt.figure(1, figsize=(8,5))\n",
        "plt.xticks(range(X.shape[1]), X.columns,rotation=90)\n",
        "plt.bar(range(Xt_train.shape[1]), importances[features],color=\"b\", yerr=std[features])\n",
        "plt.xlim([-1, Xt_train.shape[1]])\n",
        "plt.show()"
      ]
    },
    {
      "cell_type": "markdown",
      "id": "2ffa2971",
      "metadata": {},
      "source": [
        "### Choosing the best combinations"
      ]
    },
    {
      "cell_type": "code",
      "execution_count": 10,
      "id": "62a098cb",
      "metadata": {},
      "outputs": [],
      "source": [
        "def present_statistics(y_test, preds):\n",
        "    print(\"Statistics:\")\n",
        "    print(\"The Precision is: %7.4f\" % precision_score(y_test, preds, average='weighted'))\n",
        "    print(\"The Accuracy is: %7.4f\" % accuracy_score(y_test, preds))\n",
        "    print(\"The Recall is: %7.4f\" % recall_score(y_test, preds, average='weighted'))\n",
        "    print(\"The F1 score is: %7.4f\" % f1_score(y_test, preds, average='weighted'))\n",
        "    print(\"The Matthews correlation coefficient is: %7.4f\" % matthews_corrcoef(y_test, preds))\n",
        "    print(\"-------------------------------------------------------------\")"
      ]
    },
    {
      "cell_type": "markdown",
      "id": "ff275eb4",
      "metadata": {},
      "source": [
        "# Métodos"
      ]
    },
    {
      "cell_type": "markdown",
      "id": "d212e6b8",
      "metadata": {},
      "source": [
        "## Decision Tree"
      ]
    },
    {
      "cell_type": "markdown",
      "id": "34616025",
      "metadata": {},
      "source": [
        "### Testar o modelo Decision Tree Classifier"
      ]
    },
    {
      "cell_type": "code",
      "execution_count": 57,
      "id": "b9c4d0cf",
      "metadata": {},
      "outputs": [
        {
          "name": "stdout",
          "output_type": "stream",
          "text": [
            "Com valores Nan:\n",
            "Statistics:\n",
            "The Precision is:  0.8187\n",
            "The Accuracy is:  0.8131\n",
            "The Recall is:  0.8131\n",
            "The F1 score is:  0.8154\n",
            "The Matthews correlation coefficient is:  0.5934\n",
            "-------------------------------------------------------------\n",
            "Sem valores Nan:\n",
            "Statistics:\n",
            "The Precision is:  0.8123\n",
            "The Accuracy is:  0.8022\n",
            "The Recall is:  0.8022\n",
            "The F1 score is:  0.8068\n",
            "The Matthews correlation coefficient is:  0.5752\n",
            "-------------------------------------------------------------\n",
            "Usando um scaler:\n",
            "Statistics:\n",
            "The Precision is:  0.7919\n",
            "The Accuracy is:  0.7030\n",
            "The Recall is:  0.7030\n",
            "The F1 score is:  0.7388\n",
            "The Matthews correlation coefficient is:  0.4611\n",
            "-------------------------------------------------------------\n"
          ]
        }
      ],
      "source": [
        "from sklearn.tree import DecisionTreeClassifier\n",
        "from sklearn.impute import SimpleImputer\n",
        "\n",
        "print(\"Com valores Nan:\")\n",
        "\n",
        "# Create and train the DecisionTreeClassifier model\n",
        "tree_model = DecisionTreeClassifier()\n",
        "tree_model.fit(X_train, y_train)\n",
        "\n",
        "# Make predictions\n",
        "tree_preds = tree_model.predict(X_test)\n",
        "present_statistics(y_test, tree_preds)\n",
        "\n",
        "print(\"Sem valores Nan:\")\n",
        "\n",
        "# Create an instance of the SimpleImputer class with fill_value='-1'\n",
        "imputer = SimpleImputer(strategy='constant', fill_value=-1)\n",
        "\n",
        "# Replace missing values with -1 in the training and testing data\n",
        "X_train_imputed = imputer.fit_transform(X_train)\n",
        "X_test_imputed = imputer.transform(X_test)\n",
        "\n",
        "# Train the DecisionTreeClassifier model with the simple imputer\n",
        "tree_model.fit(X_train_imputed, y_train)\n",
        "\n",
        "# Make predictions\n",
        "tree_preds = tree_model.predict(X_test_imputed)\n",
        "present_statistics(y_test, tree_preds)\n",
        "\n",
        "print(\"Usando um scaler:\")\n",
        "\n",
        "# Train the DecisionTreeClassifier model with the simple imputer\n",
        "tree_model.fit(Xt_train, y_train)\n",
        "\n",
        "# Make predictions\n",
        "tree_preds = tree_model.predict(Xt_test)\n",
        "present_statistics(y_test, tree_preds)"
      ]
    },
    {
      "cell_type": "markdown",
      "id": "0411e95c",
      "metadata": {},
      "source": [
        "Os resultados ao utilizar valores Nan são melhores."
      ]
    },
    {
      "cell_type": "code",
      "execution_count": 54,
      "id": "c41ab4ed",
      "metadata": {},
      "outputs": [],
      "source": [
        "y_train_flat = np.ravel(y_train)\n",
        "y_test_flat = np.ravel(y_test)"
      ]
    },
    {
      "cell_type": "markdown",
      "id": "bf2f559b",
      "metadata": {},
      "source": [
        "## KNeighbors"
      ]
    },
    {
      "cell_type": "code",
      "execution_count": 81,
      "id": "02fdfd13",
      "metadata": {},
      "outputs": [
        {
          "name": "stdout",
          "output_type": "stream",
          "text": [
            "Usando um scaler:\n",
            "Statistics:\n",
            "The Precision is:  0.7696\n",
            "The Accuracy is:  0.7956\n",
            "The Recall is:  0.7956\n",
            "The F1 score is:  0.7761\n",
            "The Matthews correlation coefficient is:  0.5019\n",
            "-------------------------------------------------------------\n",
            "Sem usar scaler:\n",
            "Statistics:\n",
            "The Precision is:  0.7466\n",
            "The Accuracy is:  0.7798\n",
            "The Recall is:  0.7798\n",
            "The F1 score is:  0.7595\n",
            "The Matthews correlation coefficient is:  0.4730\n",
            "-------------------------------------------------------------\n"
          ]
        }
      ],
      "source": [
        "from sklearn.neighbors import KNeighborsClassifier\n",
        "knn_model = KNeighborsClassifier(n_neighbors=3)\n",
        "\n",
        "print(\"Usando um scaler:\")\n",
        "\n",
        "# Replace missing values with -1 in the scaled training and testing data\n",
        "X_train_imputed = imputer.fit_transform(Xt_train)\n",
        "X_test_imputed = imputer.transform(Xt_test)\n",
        "\n",
        "knn_model.fit(X_train_imputed, y_train_flat)\n",
        "\n",
        "# Predictions\n",
        "knn_preds = knn_model.predict(X_test_imputed)\n",
        "present_statistics(y_test, knn_preds)\n",
        "\n",
        "print(\"Sem usar scaler:\")\n",
        "\n",
        "# Replace missing values with -1 in the training and testing data\n",
        "X_train_imputed = imputer.fit_transform(X_train)\n",
        "X_test_imputed = imputer.transform(X_test)\n",
        "\n",
        "knn_model.fit(X_train_imputed, y_train_flat)\n",
        "\n",
        "# Predictions\n",
        "knn_preds = knn_model.predict(X_test_imputed)\n",
        "present_statistics(y_test_flat, knn_preds)"
      ]
    },
    {
      "cell_type": "markdown",
      "id": "4bc842a5",
      "metadata": {},
      "source": [
        "É melhor ao usar um scaler"
      ]
    },
    {
      "cell_type": "markdown",
      "id": "4f97f89c",
      "metadata": {},
      "source": [
        "## SVC"
      ]
    },
    {
      "cell_type": "code",
      "execution_count": 89,
      "id": "897724dc",
      "metadata": {},
      "outputs": [
        {
          "name": "stdout",
          "output_type": "stream",
          "text": [
            "SVC() usando scaler:\n",
            "Statistics:\n",
            "The Precision is:  0.7321\n",
            "The Accuracy is:  0.8016\n",
            "The Recall is:  0.8016\n",
            "The F1 score is:  0.7487\n",
            "The Matthews correlation coefficient is:  0.4813\n",
            "-------------------------------------------------------------\n"
          ]
        },
        {
          "name": "stderr",
          "output_type": "stream",
          "text": [
            "C:\\Users\\Utilizador\\AppData\\Local\\Packages\\PythonSoftwareFoundation.Python.3.11_qbz5n2kfra8p0\\LocalCache\\local-packages\\Python311\\site-packages\\sklearn\\metrics\\_classification.py:1509: UndefinedMetricWarning: Precision is ill-defined and being set to 0.0 in labels with no predicted samples. Use `zero_division` parameter to control this behavior.\n",
            "  _warn_prf(average, modifier, f\"{metric.capitalize()} is\", len(result))\n"
          ]
        }
      ],
      "source": [
        "from sklearn.svm import SVC\n",
        "svc_model = SVC()\n",
        "\n",
        "# Replace missing values with -1 in the training and testing data\n",
        "X_train_imputed = imputer.fit_transform(Xt_train)\n",
        "X_test_imputed = imputer.transform(Xt_test)\n",
        "\n",
        "svc_model.fit(X_train_imputed, y_train_flat)\n",
        "\n",
        "svc_preds = svc_model.predict(X_test_imputed)\n",
        "print(svc_model,\"usando scaler:\")\n",
        "present_statistics(y_test_flat, svc_preds)"
      ]
    },
    {
      "cell_type": "markdown",
      "id": "6381e11c",
      "metadata": {},
      "source": [
        "## Gaussian Naive Bayes"
      ]
    },
    {
      "cell_type": "code",
      "execution_count": 74,
      "id": "8627910d",
      "metadata": {},
      "outputs": [
        {
          "name": "stdout",
          "output_type": "stream",
          "text": [
            "GaussianNB() sem scaler:\n",
            "Statistics:\n",
            "The Precision is:  0.7531\n",
            "The Accuracy is:  0.1689\n",
            "The Recall is:  0.1689\n",
            "The F1 score is:  0.1155\n",
            "The Matthews correlation coefficient is:  0.2090\n",
            "-------------------------------------------------------------\n"
          ]
        }
      ],
      "source": [
        "from sklearn.naive_bayes import GaussianNB\n",
        "gaus_model = GaussianNB()\n",
        "\n",
        "# Replace missing values with -1 in the training and testing data\n",
        "X_train_imputed = imputer.fit_transform(X_train)\n",
        "X_test_imputed = imputer.transform(X_test)\n",
        "\n",
        "gaus_model.fit(X_train_imputed, y_train_flat)\n",
        "\n",
        "gaus_preds = gaus_model.predict(X_test_imputed)\n",
        "print(gaus_model,\"sem scaler:\")\n",
        "present_statistics(y_test_flat, gaus_preds)"
      ]
    },
    {
      "cell_type": "markdown",
      "id": "83936bfe",
      "metadata": {},
      "source": [
        "## LogisticRegression"
      ]
    },
    {
      "cell_type": "code",
      "execution_count": 80,
      "id": "d0f89254",
      "metadata": {},
      "outputs": [
        {
          "name": "stdout",
          "output_type": "stream",
          "text": [
            "LogisticRegression(max_iter=1000) com scaler:\n",
            "Statistics:\n",
            "The Precision is:  0.7340\n",
            "The Accuracy is:  0.8060\n",
            "The Recall is:  0.8060\n",
            "The F1 score is:  0.7559\n",
            "The Matthews correlation coefficient is:  0.4975\n",
            "-------------------------------------------------------------\n"
          ]
        }
      ],
      "source": [
        "from sklearn.linear_model import LogisticRegression\n",
        "logr_model = LogisticRegression(max_iter=1000)\n",
        "\n",
        "# Replace missing values with -1 in the training and testing data\n",
        "X_train_imputed = imputer.fit_transform(Xt_train)\n",
        "X_test_imputed = imputer.transform(Xt_test)\n",
        "\n",
        "# Train models\n",
        "logr_model.fit(X_train_imputed, y_train_flat)\n",
        "\n",
        "logr_preds = logr_model.predict(X_test_imputed)\n",
        "print(logr_model,\"com scaler:\")\n",
        "present_statistics(y_test_flat, logr_preds)"
      ]
    },
    {
      "cell_type": "markdown",
      "id": "aa7c6498",
      "metadata": {},
      "source": [
        "Os melhores modelos são o Decision Tree, KNeighbors e LogisticRegression"
      ]
    },
    {
      "cell_type": "markdown",
      "id": "75163cfc",
      "metadata": {},
      "source": [
        "## Model Tuning"
      ]
    },
    {
      "cell_type": "markdown",
      "id": "a05b584b",
      "metadata": {},
      "source": [
        "### Decision Tree Classifier"
      ]
    },
    {
      "cell_type": "code",
      "execution_count": 95,
      "id": "995c07b8",
      "metadata": {},
      "outputs": [
        {
          "name": "stdout",
          "output_type": "stream",
          "text": [
            "Best Parameters: {'criterion': 'entropy', 'max_depth': 10, 'max_features': None, 'min_samples_leaf': 4, 'min_samples_split': 3}\n",
            "Statistics:\n",
            "The Precision is:  0.8381\n",
            "The Accuracy is:  0.8572\n",
            "The Recall is:  0.8572\n",
            "The F1 score is:  0.8406\n",
            "The Matthews correlation coefficient is:  0.6678\n",
            "-------------------------------------------------------------\n",
            "Cross-Validation Scores: [0.59565604 0.58089859 0.55663446 0.64405356 0.58498708]\n",
            "Mean Cross-Validation Score: 0.5924459448999106\n",
            "Standard Deviation of Cross-Validation Score: 0.028792671344394262\n"
          ]
        }
      ],
      "source": [
        "param_grid = {\n",
        "    'max_depth': [5,6,7,8,9,10],\n",
        "    'min_samples_split': [2, 3, 4],\n",
        "    'min_samples_leaf': [3,4,5],\n",
        "    'max_features': [None],\n",
        "    'criterion': ['gini','entropy']\n",
        "}\n",
        "\n",
        "tree_model = DecisionTreeClassifier()\n",
        "\n",
        "grid_search = GridSearchCV(estimator=tree_model, param_grid=param_grid, cv=5, scoring='f1_macro')\n",
        "\n",
        "grid_search.fit(X_train, y_train)\n",
        "\n",
        "print(\"Best Parameters:\", grid_search.best_params_)\n",
        "\n",
        "best_tree_model = grid_search.best_estimator_\n",
        "\n",
        "tree_preds = best_tree_model.predict(X_test)\n",
        "\n",
        "present_statistics(y_test, tree_preds)\n",
        "\n",
        "# Perform cross-validation with the best estimator\n",
        "cv_scores = cross_val_score(best_tree_model, X_train, y_train, cv=5, scoring='f1_macro')\n",
        "\n",
        "# Print cross-validation scores\n",
        "print(\"Cross-Validation Scores:\", cv_scores)\n",
        "print(\"Mean Cross-Validation Score:\", cv_scores.mean())\n",
        "print(\"Standard Deviation of Cross-Validation Score:\", cv_scores.std())"
      ]
    },
    {
      "cell_type": "markdown",
      "id": "36575ef1",
      "metadata": {},
      "source": [
        "## KNeighbours"
      ]
    },
    {
      "cell_type": "code",
      "execution_count": 96,
      "id": "3760f466",
      "metadata": {},
      "outputs": [
        {
          "name": "stdout",
          "output_type": "stream",
          "text": [
            "Best Parameters: {'algorithm': 'ball_tree', 'n_neighbors': 3, 'p': 2, 'weights': 'distance'}\n",
            "Statistics:\n",
            "The Precision is:  0.7779\n",
            "The Accuracy is:  0.8005\n",
            "The Recall is:  0.8005\n",
            "The F1 score is:  0.7826\n",
            "The Matthews correlation coefficient is:  0.5120\n",
            "-------------------------------------------------------------\n",
            "Cross-Validation Scores: [0.53276753 0.51242214 0.48360205 0.5388716  0.53202343]\n",
            "Mean Cross-Validation Score: 0.5199373498614224\n",
            "Standard Deviation of Cross-Validation Score: 0.020228322309889083\n"
          ]
        }
      ],
      "source": [
        "param_grid = {\n",
        "    'n_neighbors': [3,11,13,15,17],\n",
        "    'weights': ['uniform', 'distance'],\n",
        "    'algorithm': ['auto', 'ball_tree', 'kd_tree', 'brute'],\n",
        "    'p': [1, 2]  # 1 for Manhattan distance, 2 for Euclidean distance\n",
        "}\n",
        "\n",
        "knn_model = KNeighborsClassifier()\n",
        "\n",
        "grid_search = GridSearchCV(estimator=knn_model, param_grid=param_grid, cv=5, scoring='f1_weighted')\n",
        "\n",
        "X_train_imputed = imputer.fit_transform(Xt_train)\n",
        "X_test_imputed = imputer.transform(Xt_test)\n",
        "\n",
        "grid_search.fit(X_train_imputed, y_train_flat)\n",
        "\n",
        "print(\"Best Parameters:\", grid_search.best_params_)\n",
        "\n",
        "best_knn_model = grid_search.best_estimator_\n",
        "\n",
        "knn_preds = best_knn_model.predict(X_test_imputed)\n",
        "\n",
        "present_statistics(y_test_flat, knn_preds)\n",
        "\n",
        "# Perform cross-validation with the best estimator\n",
        "cv_scores = cross_val_score(best_knn_model, X_train_imputed, y_train_flat, cv=5, scoring='f1_macro')\n",
        "\n",
        "# Print cross-validation scores\n",
        "print(\"Cross-Validation Scores:\", cv_scores)\n",
        "print(\"Mean Cross-Validation Score:\", cv_scores.mean())\n",
        "print(\"Standard Deviation of Cross-Validation Score:\", cv_scores.std())"
      ]
    },
    {
      "cell_type": "markdown",
      "id": "77482137",
      "metadata": {},
      "source": [
        "## Logistic Regression"
      ]
    },
    {
      "cell_type": "code",
      "execution_count": 97,
      "id": "19e3929b",
      "metadata": {},
      "outputs": [
        {
          "name": "stderr",
          "output_type": "stream",
          "text": [
            "C:\\Users\\Utilizador\\AppData\\Local\\Packages\\PythonSoftwareFoundation.Python.3.11_qbz5n2kfra8p0\\LocalCache\\local-packages\\Python311\\site-packages\\sklearn\\svm\\_base.py:1237: ConvergenceWarning: Liblinear failed to converge, increase the number of iterations.\n",
            "  warnings.warn(\n"
          ]
        },
        {
          "name": "stdout",
          "output_type": "stream",
          "text": [
            "Best Parameters: {'C': 100, 'penalty': 'l2', 'solver': 'liblinear'}\n",
            "Statistics:\n",
            "The Precision is:  0.6872\n",
            "The Accuracy is:  0.5629\n",
            "The Recall is:  0.5629\n",
            "The F1 score is:  0.5960\n",
            "The Matthews correlation coefficient is:  0.1859\n",
            "-------------------------------------------------------------\n",
            "Cross-Validation Scores: [0.58855809 0.58483791 0.55977466 0.6371247  0.5901645 ]\n",
            "Mean Cross-Validation Score: 0.5920919724919635\n",
            "Standard Deviation of Cross-Validation Score: 0.025064635654496376\n"
          ]
        },
        {
          "name": "stderr",
          "output_type": "stream",
          "text": [
            "C:\\Users\\Utilizador\\AppData\\Local\\Packages\\PythonSoftwareFoundation.Python.3.11_qbz5n2kfra8p0\\LocalCache\\local-packages\\Python311\\site-packages\\sklearn\\metrics\\_classification.py:1509: UndefinedMetricWarning: Precision is ill-defined and being set to 0.0 in labels with no predicted samples. Use `zero_division` parameter to control this behavior.\n",
            "  _warn_prf(average, modifier, f\"{metric.capitalize()} is\", len(result))\n"
          ]
        }
      ],
      "source": [
        "param_grid = {\n",
        "    'penalty': ['l1', 'l2'],\n",
        "    'C': [100],\n",
        "    'solver': ['liblinear']\n",
        "}\n",
        "\n",
        "logreg_model = LogisticRegression(max_iter=1000)  # Increase max_iter if needed\n",
        "\n",
        "grid_search = GridSearchCV(estimator=logreg_model, param_grid=param_grid, cv=5, scoring='f1_weighted')\n",
        "\n",
        "X_train_imputed = imputer.fit_transform(Xt_train)\n",
        "X_test_imputed = imputer.transform(Xt_test)\n",
        "\n",
        "grid_search.fit(X_train_imputed, y_train_flat)\n",
        "\n",
        "print(\"Best Parameters:\", grid_search.best_params_)\n",
        "\n",
        "best_logreg_model = grid_search.best_estimator_\n",
        "\n",
        "logreg_preds = best_logreg_model.predict(X_test_imputed)\n",
        "\n",
        "present_statistics(y_test_flat, logreg_preds)\n",
        "\n",
        "# Perform cross-validation with the best estimator\n",
        "cv_scores = cross_val_score(best_tree_model, X_train, y_train, cv=5, scoring='f1_macro')\n",
        "\n",
        "# Print cross-validation scores\n",
        "print(\"Cross-Validation Scores:\", cv_scores)\n",
        "print(\"Mean Cross-Validation Score:\", cv_scores.mean())\n",
        "print(\"Standard Deviation of Cross-Validation Score:\", cv_scores.std())"
      ]
    },
    {
      "cell_type": "markdown",
      "id": "0fce3d12",
      "metadata": {},
      "source": [
        "## 3. Model Tuning\n",
        "\n",
        "For this example we are going to use Support Vector Classifiers, but any model learned so far can be used\n",
        "\n",
        "We are going to use first [Scikit-Learn's GridSearchCV](https://scikit-learn.org/stable/modules/generated/sklearn.model_selection.GridSearchCV.html), an implementation of extensive parameter search. In its basic form it just requires:\n",
        "* a bare bones model constructor \n",
        "* a dictionary containing the parameters to search for. The keys of the dictionary should correspond to the parameter to test and the values to a list of possible values to test\n",
        "* a scoring function defining what is the criterion to select and rank the best models\n",
        "* GridSearchCV uses by default 5-Fold Cross validation, but other validation criteria can be used\n",
        "\n",
        "The result of GridSearchCV is a structure that contains the fitted models that can then be used for learning and application\n",
        "\n",
        "Tet's try it with the C and gamma values for support vector classification"
      ]
    },
    {
      "cell_type": "code",
      "execution_count": null,
      "id": "90792ad8-2eab-42db-bb74-f7809c2ae07e",
      "metadata": {
        "trusted": true
      },
      "outputs": [],
      "source": [
        "from time import time\n",
        "#from sklearn.svm import SVC\n",
        "from sklearn.tree import DecisionTreeClassifier\n",
        "from sklearn.model_selection import GridSearchCV, RandomizedSearchCV\n",
        "import scipy.stats as stats\n",
        "\n",
        "#make the dictionary with the testing parameters\n",
        "#gammas = [1e-1, 1e-2, 1e-3, 1e-4, 1e-5, 1e-6, 1e-7]\n",
        "#Cs = [1, 10, 100, 1e3, 1e4, 1e5]\n",
        "#param_grid = {'gamma': gammas, 'C': Cs}\n",
        "depths = [3, 5, 10, 15]\n",
        "m_sampl_split = [2, 5, 9]\n",
        "prune_a = [0.0, 0.0001, 0.001, 0.01]\n",
        "param_grid = {'max_depth': depths, 'min_samples_split': m_sampl_split, 'ccp_alpha': prune_a}\n",
        "\n",
        "#define the model and do the grid search\n",
        "#clf = SVC() # RBF (Gaussian) by default\n",
        "clf = DecisionTreeClassifier(criterion='log_loss', random_state=23)\n",
        "gs = GridSearchCV(estimator=clf, param_grid=param_grid, scoring=\"f1\")\n",
        "\n",
        "start = time()\n",
        "gs=gs.fit(X_train, y_train)\n",
        "print(\n",
        "    'GridSearchCV took %.2f seconds for %d candidate parameter settings.'\n",
        "    % ((time() - start), len(gs.cv_results_['params']))\n",
        ")"
      ]
    },
    {
      "cell_type": "markdown",
      "id": "05c22db8-554e-4401-8d21-be9a209c7257",
      "metadata": {},
      "source": [
        "Let's identify the best element parameters [best according to the scoring function, in this case it is the F1 score]"
      ]
    },
    {
      "cell_type": "code",
      "execution_count": null,
      "id": "1c028485-0116-4afa-bffa-fb492a77f370",
      "metadata": {
        "trusted": true
      },
      "outputs": [],
      "source": [
        "#print('best gamma: %7.4f' % gs.best_estimator_.gamma)\n",
        "#print('best C: %3.2f' %  gs.best_estimator_.C)\n",
        "print('best maximum depth: %2.0f' % gs.best_estimator_.max_depth)\n",
        "print('best minimum samples to split a node: %2.0f' %  gs.best_estimator_.min_samples_split)\n",
        "print('best minimal cost pruning parameter: %1.4f' % gs.best_estimator_.ccp_alpha)"
      ]
    },
    {
      "cell_type": "markdown",
      "id": "d12bb095-23ca-4436-bab1-398ad91fd5a7",
      "metadata": {},
      "source": [
        "Just for sake of completion, we can use the best estimator model (the one with the optimized parameters) for prediction on the test set."
      ]
    },
    {
      "cell_type": "code",
      "execution_count": null,
      "id": "a7f10d58-1b86-427a-8a82-0759a8e67d1e",
      "metadata": {
        "trusted": true
      },
      "outputs": [],
      "source": [
        "preds=gs.best_estimator_.predict(X_test)\n",
        "print('F1 : %7.4f' % f1_score(y_test, preds))\n",
        "print('number of leaves:', gs.best_estimator_.get_n_leaves())"
      ]
    },
    {
      "cell_type": "markdown",
      "id": "9d40c323",
      "metadata": {},
      "source": [
        "GridSearchCV gives you a number of statistics on the tests it runs:"
      ]
    },
    {
      "cell_type": "code",
      "execution_count": null,
      "id": "f3156ce1-c771-4a5f-88e3-aab94117af81",
      "metadata": {
        "trusted": true
      },
      "outputs": [],
      "source": [
        "for i in gs.cv_results_.keys(): print(i)"
      ]
    },
    {
      "cell_type": "markdown",
      "id": "b248aac8-6e6e-4851-aa7b-4af3f8e2637e",
      "metadata": {},
      "source": [
        "We can print the results in a nice Pandas Data Frame"
      ]
    },
    {
      "cell_type": "code",
      "execution_count": null,
      "id": "7031e823-bfe7-4ff2-b96f-965f2a35df43",
      "metadata": {
        "trusted": true
      },
      "outputs": [],
      "source": [
        "grid_res = pd.DataFrame(gs.cv_results_)\n",
        "grid_res.sort_values(by=['rank_test_score'], ascending=True, inplace=True) #sort the tested models by score\n",
        "grid_res[['params', 'rank_test_score', 'mean_test_score', 'std_test_score', 'mean_fit_time', 'std_fit_time']] #show only mean and std of the test score"
      ]
    },
    {
      "cell_type": "markdown",
      "id": "13451945",
      "metadata": {},
      "source": [
        "we can check if the 2nd best model produces different results "
      ]
    },
    {
      "cell_type": "code",
      "execution_count": null,
      "id": "cd1e9d44",
      "metadata": {
        "trusted": true
      },
      "outputs": [],
      "source": [
        "print('max_depth:', grid_res.loc[1, 'param_max_depth'],\n",
        "      'min_samples_split:', grid_res.loc[1, 'param_min_samples_split'],\n",
        "      'ccp_alpha:', '{:.2e}'.format(grid_res.loc[1, 'param_ccp_alpha']))\n",
        "clf = DecisionTreeClassifier(criterion='log_loss', random_state=23,\n",
        "                             max_depth=grid_res.loc[1, 'param_max_depth'],\n",
        "                             min_samples_split=grid_res.loc[1, 'param_min_samples_split'],\n",
        "                             ccp_alpha=grid_res.loc[1, 'param_ccp_alpha'])\n",
        "clf.fit(X_train, y_train)\n",
        "preds=clf.predict(X_test)\n",
        "print('F1 : %7.4f' % f1_score(y_test, preds))\n",
        "print('number of leaves:', clf.get_n_leaves())"
      ]
    },
    {
      "cell_type": "markdown",
      "id": "8f46b39f",
      "metadata": {},
      "source": [
        "Let's try now the RandomizedSearchCV and compare to the previous one."
      ]
    },
    {
      "cell_type": "code",
      "execution_count": null,
      "id": "9e298a0e",
      "metadata": {
        "trusted": true
      },
      "outputs": [],
      "source": [
        "# configure randomized search (by default also 5-fold CV)\n",
        "# notice the loguniform distributions\n",
        "\n",
        "param_dist = {\n",
        "#    'C': stats.loguniform(1, 1e5),\n",
        "#    'gamma': stats.loguniform(1e-7, 1e-1),\n",
        "    'max_depth': stats.randint(3, 16),\n",
        "    'min_samples_split': stats.randint(2, 10),\n",
        "    'ccp_alpha': stats.loguniform(1e-5, 0.01)\n",
        "}\n",
        "\n",
        "n_iter_search = 15\n",
        "rs = RandomizedSearchCV(\n",
        "    clf, param_distributions=param_dist, n_iter=n_iter_search\n",
        ")\n",
        "\n",
        "start = time()\n",
        "rs = rs.fit(X_train, y_train)\n",
        "print(\n",
        "    'RandomizedSearchCV took %.2f seconds for %d candidates parameter settings'\n",
        "    % ((time() - start), n_iter_search)\n",
        ")"
      ]
    },
    {
      "cell_type": "code",
      "execution_count": null,
      "id": "f8b307be",
      "metadata": {
        "scrolled": true,
        "trusted": true
      },
      "outputs": [],
      "source": [
        "print('best maximum depth: %2.0f' % rs.best_estimator_.max_depth)\n",
        "print('best minimum samples to split a node: %2.0f' %  rs.best_estimator_.min_samples_split)\n",
        "print('best minimal cost pruning parameter: %1.4f' % rs.best_estimator_.ccp_alpha)"
      ]
    },
    {
      "cell_type": "markdown",
      "id": "6a1243f8",
      "metadata": {},
      "source": [
        "Now we can use the best estimator model (the one with the optimized parameters) for prediction"
      ]
    },
    {
      "cell_type": "code",
      "execution_count": null,
      "id": "be64837f",
      "metadata": {
        "trusted": true
      },
      "outputs": [],
      "source": [
        "rs1 = rs.best_estimator_\n",
        "rs1.fit(X_train, y_train)\n",
        "preds=rs1.predict(X_test)\n",
        "print('F1 : %7.4f' % f1_score(y_test, preds))\n",
        "print('number of leaves:', rs1.get_n_leaves())"
      ]
    },
    {
      "cell_type": "code",
      "execution_count": null,
      "id": "7931e79e",
      "metadata": {
        "scrolled": true,
        "trusted": true
      },
      "outputs": [],
      "source": [
        "rand_res = pd.DataFrame(rs.cv_results_)\n",
        "rand_res.sort_values(by=['rank_test_score'], ascending= True, inplace=True) #sort the tested models by score\n",
        "rand_res[['params', 'rank_test_score', 'mean_test_score', 'std_test_score', 'mean_fit_time', 'std_fit_time']] #show only mean and std of the test score"
      ]
    },
    {
      "cell_type": "markdown",
      "id": "579f7035",
      "metadata": {},
      "source": [
        "checking the 2nd best model "
      ]
    },
    {
      "cell_type": "code",
      "execution_count": null,
      "id": "55d1bd4e",
      "metadata": {
        "trusted": true
      },
      "outputs": [],
      "source": [
        "print('max_depth:', rand_res['param_max_depth'].iat[1],\n",
        "      ', min_samples_split:', rand_res['param_min_samples_split'].iat[1],\n",
        "      ', ccp_alpha:', '{:.2e}'.format(rand_res['param_ccp_alpha'].iat[1]))\n",
        "clf = DecisionTreeClassifier(criterion='log_loss', random_state=23,\n",
        "                             max_depth=rand_res['param_max_depth'].iat[1],\n",
        "                             min_samples_split=rand_res['param_min_samples_split'].iat[1],\n",
        "                             ccp_alpha=rand_res['param_ccp_alpha'].iat[1])\n",
        "clf.fit(X_train, y_train)\n",
        "preds=clf.predict(X_test)\n",
        "print('F1 : %7.4f' % f1_score(y_test, preds))\n",
        "print('number of leaves:', clf.get_n_leaves())"
      ]
    }
  ],
  "metadata": {
    "kernelspec": {
      "display_name": "Python 3.11.0rc1 64-bit",
      "language": "python",
      "name": "python3"
    },
    "language_info": {
      "codemirror_mode": {
        "name": "ipython",
        "version": 3
      },
      "file_extension": ".py",
      "mimetype": "text/x-python",
      "name": "python",
      "nbconvert_exporter": "python",
      "pygments_lexer": "ipython3",
      "version": "3.11.9"
    },
    "vscode": {
      "interpreter": {
        "hash": "ead1b95f633dc9c51826328e1846203f51a198c6fb5f2884a80417ba131d4e82"
      }
    }
  },
  "nbformat": 4,
  "nbformat_minor": 5
}
